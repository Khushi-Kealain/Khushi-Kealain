{
 "cells": [
  {
   "cell_type": "markdown",
   "id": "33f9d55f",
   "metadata": {},
   "source": [
    "All steps:\n",
    "    1)Display()\n",
    "    2)InputAns()\n",
    "    3)Update()\n",
    "    4)Process()\n",
    "    \n",
    "Additional:\n",
    "    5)WC()\n",
    "    \n",
    "    "
   ]
  },
  {
   "cell_type": "markdown",
   "id": "a60ae6b0",
   "metadata": {},
   "source": [
    "Step1) Display"
   ]
  },
  {
   "cell_type": "code",
   "execution_count": 15,
   "id": "3730079f",
   "metadata": {},
   "outputs": [],
   "source": [
    "def Display():\n",
    "    global list1\n",
    "    \n",
    "    \n",
    "    #extra information\n",
    "    Player = \"Player1 = O\\nPlayer2 = X\"\n",
    "    Other= \"             Quit =Q\"\n",
    "    info = Player+ Other\n",
    "    print( info)\n",
    "    \n",
    "    #main game display\n",
    "    print(f\"{str(list1[0])} | {str(list1[1])} | {str(list1[2])}\")\n",
    "    print(f\"{str(list1[3])} | {str(list1[4])} | {str(list1[5])}\")\n",
    "    print(f\"{str(list1[6])} | {str(list1[7])} | {str(list1[8])}\")"
   ]
  },
  {
   "cell_type": "markdown",
   "id": "dae21479",
   "metadata": {},
   "source": [
    "2) InputAns"
   ]
  },
  {
   "cell_type": "code",
   "execution_count": 16,
   "id": "626cc8cb",
   "metadata": {},
   "outputs": [],
   "source": [
    "def InputAns():\n",
    "    global choice\n",
    "    \n",
    "    def Valid(choice):\n",
    "        if choice == \"Q\":\n",
    "            return True\n",
    "        elif choice.isdigit() == False:\n",
    "            return False\n",
    "        elif int(choice) in list1:\n",
    "            return True\n",
    "        else:\n",
    "            return False\n",
    "            \n",
    "    \n",
    "    \n",
    "    choice = input(\"Player \" + str(playercurrent) + \" Please select the position  :   \" )\n",
    "    \n",
    "    while Valid(choice) ==False :\n",
    "        choice= input(\"please choose a valid positon\")\n"
   ]
  },
  {
   "cell_type": "markdown",
   "id": "d2009c79",
   "metadata": {},
   "source": [
    "3)Update"
   ]
  },
  {
   "cell_type": "code",
   "execution_count": 17,
   "id": "8eaa5962",
   "metadata": {},
   "outputs": [],
   "source": [
    "def Update():\n",
    "    global playercurrent,GameRound,list1,Var\n",
    "    \n",
    "    print(\"Game Round currently is :\" + str(GameRound))\n",
    "    \n",
    "    \n",
    "    \n",
    "    if GameRound%2 == 0:\n",
    "        Var = \"X\"\n",
    "        \n",
    "    else :\n",
    "        Var = \"O\"\n",
    "        \n",
    "    \n",
    "    if choice.isdigit() ==True:\n",
    "        list1[int(choice) - 1] =Var\n",
    "    else:\n",
    "        pass\n",
    "    \n",
    "    \n",
    "    \n",
    "    \n",
    "    #setting the playercurrent for the next round\n",
    "    \n",
    "    if GameRound%2 == 0:\n",
    "        playercurrent =2\n",
    "        \n",
    "    else :\n",
    "        playercurrent = 1\n",
    "        \n",
    "    \n",
    "    GameRound=GameRound+1\n",
    "    \n",
    "        \n",
    "    \n",
    "    \n",
    "    \n",
    "        "
   ]
  },
  {
   "cell_type": "markdown",
   "id": "24a25dc1",
   "metadata": {},
   "source": [
    "4) Process"
   ]
  },
  {
   "cell_type": "code",
   "execution_count": 18,
   "id": "caf621fd",
   "metadata": {},
   "outputs": [],
   "source": [
    "def Process():\n",
    "    global GameOn,playercurrent\n",
    "    \n",
    "    \n",
    "    \n",
    "    #Game ending conditions\n",
    "    if wc(Var)==True:\n",
    "        Display()\n",
    "        print(  f\"PLAYER {playercurrent}  Wins The Game!!!!\")\n",
    "        GameOn=False\n",
    "    elif( choice ==\"Q\" ):\n",
    "        GameOn = False\n",
    "        print(\"You have decided to end the game\")\n",
    "    elif GameRound ==10:\n",
    "        GameOn =False\n",
    "        print(\"The Game ends in Draw \")\n",
    "    else:\n",
    "        pass\n",
    "    \n",
    "    \n",
    "    \n",
    "    #information update for next round\n",
    "    if GameRound%2 == 0:\n",
    "        playercurrent =2\n",
    "        \n",
    "    else :\n",
    "        playercurrent = 1"
   ]
  },
  {
   "cell_type": "code",
   "execution_count": 19,
   "id": "0f6e69b4",
   "metadata": {},
   "outputs": [],
   "source": [
    "#5)winning Condition\n",
    "\n",
    "\n",
    "\n",
    "def wc(Var):\n",
    "    W = [str(Var),str(Var),str(Var)]\n",
    "    VW1 =[ list1[0],list1[3],list1[6]]\n",
    "    VW2 =[list1[1],list1[4],list1[7]]\n",
    "    VW3 =[list1[2],list1[5],list1[8]]\n",
    "    \n",
    "    DW1 = [list1[0],list1[4],list1[8]]\n",
    "    DW2 = [list1[2],list1[4],list1[6]]\n",
    "\n",
    "    \n",
    "    \n",
    "    #horizontal win\n",
    "    if list1[0:3]== W or list1[3:6]== W or list1[6:9]==W:\n",
    "        \n",
    "        return True\n",
    "        \n",
    "    #Vertical Win\n",
    "    elif VW1== W or VW2 == W or VW3== W  :\n",
    "        \n",
    "        return True\n",
    "        \n",
    "    #diagonal win\n",
    "    elif DW1== W or DW2== W:\n",
    "        \n",
    "        return True\n",
    "        \n",
    "    else:\n",
    "        return False\n",
    "    \n",
    "    \n"
   ]
  },
  {
   "cell_type": "code",
   "execution_count": null,
   "id": "6e2c6b18",
   "metadata": {
    "scrolled": false
   },
   "outputs": [
    {
     "name": "stdout",
     "output_type": "stream",
     "text": [
      "Player1 = O\n",
      "Player2 = X             Quit =Q\n",
      "1 | 2 | 3\n",
      "4 | 5 | 6\n",
      "7 | 8 | 9\n"
     ]
    }
   ],
   "source": [
    "from IPython.display import clear_output\n",
    "\n",
    "GameRound = 1\n",
    "GameOn =True\n",
    "list1 = [1,2,3,4,5,6,7,8,9]\n",
    "playercurrent=1\n",
    "\n",
    "while GameOn == True:\n",
    "    clear_output()\n",
    "    Display()\n",
    "    InputAns()\n",
    "    Update()\n",
    "    Process()\n",
    "    \n",
    "    \n",
    "    \n",
    "    "
   ]
  },
  {
   "cell_type": "code",
   "execution_count": null,
   "id": "1a07d927",
   "metadata": {},
   "outputs": [],
   "source": [
    "\n"
   ]
  }
 ],
 "metadata": {
  "kernelspec": {
   "display_name": "Python 3 (ipykernel)",
   "language": "python",
   "name": "python3"
  },
  "language_info": {
   "codemirror_mode": {
    "name": "ipython",
    "version": 3
   },
   "file_extension": ".py",
   "mimetype": "text/x-python",
   "name": "python",
   "nbconvert_exporter": "python",
   "pygments_lexer": "ipython3",
   "version": "3.9.13"
  }
 },
 "nbformat": 4,
 "nbformat_minor": 5
}
